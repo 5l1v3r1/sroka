{
 "cells": [
  {
   "cell_type": "markdown",
   "metadata": {},
   "source": [
    "## Test your Sroka set up"
   ]
  },
  {
   "cell_type": "markdown",
   "metadata": {},
   "source": [
    "The purpose of this notebook is to check whether you are able to connect with given API's that Sroka provides and that your credentials are correctly saved in config.ini file.\n",
    "\n",
    "Where it is possible, we have provided a generic query, however some API's require to pass id's in order to get any results. In that case please define the variables' values first."
   ]
  },
  {
   "cell_type": "code",
   "execution_count": 2,
   "metadata": {},
   "outputs": [],
   "source": [
    "# GA API\n",
    "from sroka.api.ga.ga import ga_request\n",
    "# GAM API\n",
    "from sroka.api.google_ad_manager.gam_api import get_data_from_admanager\n",
    "# Qubole API (first of the options)\n",
    "from sroka.api.qubole.query_result_file import get \n",
    "# Qubole API (second of the options)\n",
    "from sroka.api.qubole.qubole_api import done_qubole, request_qubole\n",
    "# MOAT API\n",
    "from sroka.api.moat.moat_api import get_data_from_moat\n",
    "# Rubicon API\n",
    "from sroka.api.rubicon.rubicon_api import get_data_from_rubicon\n",
    "# Athena API\n",
    "from sroka.api.athena.athena_api import query_athena, done_athena\n",
    "# Google sheets API\n",
    "from sroka.api.google_drive.google_drive_api import google_drive_sheets_read, \\\n",
    "    google_drive_sheets_create, google_drive_sheets_write, google_drive_sheets_upload\n",
    "# S3 API\n",
    "from sroka.api.s3_connection.s3_connection_api import s3_download_data\n",
    "# MySQL API\n",
    "from sroka.api.mysql.mysql import query_mysql"
   ]
  },
  {
   "cell_type": "markdown",
   "metadata": {},
   "source": [
    "## Athena"
   ]
  },
  {
   "cell_type": "code",
   "execution_count": null,
   "metadata": {},
   "outputs": [],
   "source": [
    "df = query_athena(\"\"\"\n",
    "    SELECT '2019-03-01' as date\n",
    "    \"\"\")\n",
    "\n",
    "df"
   ]
  },
  {
   "cell_type": "markdown",
   "metadata": {},
   "source": [
    "## S3"
   ]
  },
  {
   "cell_type": "code",
   "execution_count": null,
   "metadata": {},
   "outputs": [],
   "source": [
    "# input a path to data on your s3, it is needed to perform any query\n",
    "s3_folder = ''\n",
    "\n",
    "s3_download_data('s3://{}'.format(s3_folder), prefix=True, sep=';')"
   ]
  },
  {
   "cell_type": "markdown",
   "metadata": {},
   "source": [
    "## Google Ad Manager"
   ]
  },
  {
   "cell_type": "code",
   "execution_count": null,
   "metadata": {},
   "outputs": [],
   "source": [
    "start_day = '01'\n",
    "end_day='04'\n",
    "start_month = '03'\n",
    "end_month = '03'\n",
    "year = '2019'\n",
    "\n",
    "query = \"\"\n",
    "dimensions = ['DATE']\n",
    "columns = ['TOTAL_ACTIVE_VIEW_MEASURABLE_IMPRESSIONS',\n",
    "           'TOTAL_ACTIVE_VIEW_VIEWABLE_IMPRESSIONS']\n",
    "start_date = {'year': year,\n",
    "              'month': start_month,\n",
    "              'day': start_day}\n",
    "stop_date = {'year': year,\n",
    "             'month': end_month,\n",
    "             'day': end_day}\n",
    "\n",
    "df_gam = get_data_from_admanager(query, dimensions, columns, start_date, stop_date)\n",
    "df_gam.head()"
   ]
  },
  {
   "cell_type": "markdown",
   "metadata": {},
   "source": [
    "## Google Analytics"
   ]
  },
  {
   "cell_type": "code",
   "execution_count": null,
   "metadata": {},
   "outputs": [],
   "source": [
    "# your account id, it is needed to perform any query\n",
    "your_id = ''\n",
    "\n",
    "request = {\n",
    "\"ids\" : \"ga:{}\".format(your_id),\n",
    "\"start_date\" : \"2019-03-01\",\n",
    "\"end_date\" : \"2019-03-04\",\n",
    "\"metrics\" : \"ga:pageviews\",\n",
    "\"filters\" : \"ga:country=='PL'\",\n",
    "\"segment\" : \"\",\n",
    "\"dimensions\" : \"ga:day\"\n",
    "}\n",
    "\n",
    "df_ga = ga_request(request, print_sample_size=True, sampling_level='FASTER')\n",
    "df_ga.head()"
   ]
  },
  {
   "cell_type": "markdown",
   "metadata": {},
   "source": [
    "## Google Sheets"
   ]
  },
  {
   "cell_type": "code",
   "execution_count": null,
   "metadata": {},
   "outputs": [],
   "source": [
    "new_sheet = google_drive_sheets_create('new_sheet')\n",
    "\n",
    "google_drive_sheets_write(df, new_sheet)"
   ]
  },
  {
   "cell_type": "markdown",
   "metadata": {},
   "source": [
    "## Moat"
   ]
  },
  {
   "cell_type": "code",
   "execution_count": null,
   "metadata": {},
   "outputs": [],
   "source": [
    "input_data_moat = {\n",
    "    'start' : '20190301',\n",
    "    'end' : '20190304',\n",
    "    'columns' : ['date','impressions_analyzed']\n",
    "}\n",
    "\n",
    "df_moat = get_data_from_moat(input_data_moat, 'moat')\n",
    "df_moat.head()"
   ]
  },
  {
   "cell_type": "markdown",
   "metadata": {},
   "source": [
    "## Qubole"
   ]
  },
  {
   "cell_type": "code",
   "execution_count": null,
   "metadata": {},
   "outputs": [],
   "source": [
    "presto_query = \"\"\"\n",
    "        SELECT '2019-03-01' as date;\n",
    "        \"\"\"\n",
    "\n",
    "data_presto = request_qubole(presto_query, query_type='hive')\n",
    "data_presto.head()"
   ]
  },
  {
   "cell_type": "markdown",
   "metadata": {},
   "source": [
    "## Rubicon"
   ]
  },
  {
   "cell_type": "code",
   "execution_count": null,
   "metadata": {},
   "outputs": [],
   "source": [
    "input_data = {\n",
    "    'start' : '2018-08-23T00:00:00-07:00',\n",
    "    'end' : '2018-08-23T23:59:59-07:00',\n",
    "    'dimensions' : ['date', 'advertiser'],\n",
    "    'metrics' : ['paid_impression',\n",
    "                 'starts',\n",
    "                 'completes'\n",
    "                ],\n",
    "    'filters' : ['dimension:country_id==PL'\n",
    "                ]\n",
    "}\n",
    "\n",
    "\n",
    "data = get_data_from_rubicon(input_data)\n",
    "data.head()"
   ]
  },
  {
   "cell_type": "markdown",
   "metadata": {},
   "source": [
    "## MySQL"
   ]
  },
  {
   "cell_type": "code",
   "execution_count": 3,
   "metadata": {},
   "outputs": [
    {
     "data": {
      "text/html": [
       "<div>\n",
       "<style scoped>\n",
       "    .dataframe tbody tr th:only-of-type {\n",
       "        vertical-align: middle;\n",
       "    }\n",
       "\n",
       "    .dataframe tbody tr th {\n",
       "        vertical-align: top;\n",
       "    }\n",
       "\n",
       "    .dataframe thead th {\n",
       "        text-align: right;\n",
       "    }\n",
       "</style>\n",
       "<table border=\"1\" class=\"dataframe\">\n",
       "  <thead>\n",
       "    <tr style=\"text-align: right;\">\n",
       "      <th></th>\n",
       "      <th>clan_acc</th>\n",
       "      <th>id</th>\n",
       "      <th>previous_id</th>\n",
       "      <th>description</th>\n",
       "      <th>author</th>\n",
       "      <th>comment</th>\n",
       "      <th>created</th>\n",
       "      <th>updated</th>\n",
       "    </tr>\n",
       "  </thead>\n",
       "  <tbody>\n",
       "    <tr>\n",
       "      <td>0</td>\n",
       "      <td>CL00001</td>\n",
       "      <td>tRNA</td>\n",
       "      <td>None</td>\n",
       "      <td>tRNA clan</td>\n",
       "      <td>Gardner PP</td>\n",
       "      <td>The tRNA clan contains the RNA families tRNA a...</td>\n",
       "      <td>2014-06-02 15:17:41</td>\n",
       "      <td>2014-06-02 15:18:18</td>\n",
       "    </tr>\n",
       "    <tr>\n",
       "      <td>1</td>\n",
       "      <td>CL00002</td>\n",
       "      <td>RNaseP</td>\n",
       "      <td>None</td>\n",
       "      <td>RNaseP clan</td>\n",
       "      <td>Gardner PP</td>\n",
       "      <td>The RNaseP clan contains the RNA families RNas...</td>\n",
       "      <td>2014-06-02 15:18:19</td>\n",
       "      <td>2014-06-02 15:18:18</td>\n",
       "    </tr>\n",
       "    <tr>\n",
       "      <td>2</td>\n",
       "      <td>CL00003</td>\n",
       "      <td>SRP</td>\n",
       "      <td>None</td>\n",
       "      <td>SRP clan</td>\n",
       "      <td>Gardner PP, Burge S</td>\n",
       "      <td>The SRP clan contains the RNA families for Met...</td>\n",
       "      <td>2014-06-02 15:18:20</td>\n",
       "      <td>2014-06-02 15:18:19</td>\n",
       "    </tr>\n",
       "    <tr>\n",
       "      <td>3</td>\n",
       "      <td>CL00004</td>\n",
       "      <td>Telomerase</td>\n",
       "      <td>None</td>\n",
       "      <td>Telomerase clan</td>\n",
       "      <td>Gardner PP</td>\n",
       "      <td>The Telomerase clan contains the RNA families ...</td>\n",
       "      <td>2014-06-02 15:18:21</td>\n",
       "      <td>2014-06-02 15:18:20</td>\n",
       "    </tr>\n",
       "    <tr>\n",
       "      <td>4</td>\n",
       "      <td>CL00005</td>\n",
       "      <td>U1</td>\n",
       "      <td>None</td>\n",
       "      <td>U1 clan</td>\n",
       "      <td>Gardner PP</td>\n",
       "      <td>The U1 clan contains the RNA families U1, U1_y...</td>\n",
       "      <td>2014-06-02 15:18:22</td>\n",
       "      <td>2014-06-02 15:18:21</td>\n",
       "    </tr>\n",
       "  </tbody>\n",
       "</table>\n",
       "</div>"
      ],
      "text/plain": [
       "  clan_acc          id previous_id      description               author  \\\n",
       "0  CL00001        tRNA        None        tRNA clan           Gardner PP   \n",
       "1  CL00002      RNaseP        None      RNaseP clan           Gardner PP   \n",
       "2  CL00003         SRP        None         SRP clan  Gardner PP, Burge S   \n",
       "3  CL00004  Telomerase        None  Telomerase clan           Gardner PP   \n",
       "4  CL00005          U1        None          U1 clan           Gardner PP   \n",
       "\n",
       "                                             comment             created  \\\n",
       "0  The tRNA clan contains the RNA families tRNA a... 2014-06-02 15:17:41   \n",
       "1  The RNaseP clan contains the RNA families RNas... 2014-06-02 15:18:19   \n",
       "2  The SRP clan contains the RNA families for Met... 2014-06-02 15:18:20   \n",
       "3  The Telomerase clan contains the RNA families ... 2014-06-02 15:18:21   \n",
       "4  The U1 clan contains the RNA families U1, U1_y... 2014-06-02 15:18:22   \n",
       "\n",
       "              updated  \n",
       "0 2014-06-02 15:18:18  \n",
       "1 2014-06-02 15:18:18  \n",
       "2 2014-06-02 15:18:19  \n",
       "3 2014-06-02 15:18:20  \n",
       "4 2014-06-02 15:18:21  "
      ]
     },
     "execution_count": 3,
     "metadata": {},
     "output_type": "execute_result"
    }
   ],
   "source": [
    "df = query_mysql(\"SELECT * FROM clan LIMIT 10\")\n",
    "df.head()"
   ]
  },
  {
   "cell_type": "code",
   "execution_count": null,
   "metadata": {},
   "outputs": [],
   "source": []
  }
 ],
 "metadata": {
  "kernelspec": {
   "display_name": "Python 3",
   "language": "python",
   "name": "python3"
  },
  "language_info": {
   "codemirror_mode": {
    "name": "ipython",
    "version": 3
   },
   "file_extension": ".py",
   "mimetype": "text/x-python",
   "name": "python",
   "nbconvert_exporter": "python",
   "pygments_lexer": "ipython3",
   "version": "3.7.4"
  }
 },
 "nbformat": 4,
 "nbformat_minor": 2
}
